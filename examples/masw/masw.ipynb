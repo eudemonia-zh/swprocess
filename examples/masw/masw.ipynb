{
 "cells": [
  {
   "cell_type": "markdown",
   "metadata": {},
   "source": [
    "## License Information\n",
    "---\n",
    "\n",
    "This file is distributed as part of `swprocess`, a Python package for surface wave processing.\n",
    "\n",
    "    Copyright (C) 2020 Joseph P. Vantassel (jvantassel@utexas.edu)\n",
    "\n",
    "    This program is free software: you can redistribute it and/or modify\n",
    "    it under the terms of the GNU General Public License as published by\n",
    "    the Free Software Foundation, either version 3 of the License, or\n",
    "    (at your option) any later version.\n",
    "\n",
    "    This program is distributed in the hope that it will be useful,\n",
    "    but WITHOUT ANY WARRANTY; without even the implied warranty of\n",
    "    MERCHANTABILITY or FITNESS FOR A PARTICULAR PURPOSE.  See the\n",
    "    GNU General Public License for more details.\n",
    "\n",
    "    You should have received a copy of the GNU General Public License\n",
    "    along with this program.  If not, see <https: //www.gnu.org/licenses/>.\n",
    "    \n",
    "## About _swprocess_ and this notebook\n",
    "---\n",
    "\n",
    "`swprocess` is a Python package for surface wave processing. `swprocess` was developed by\n",
    "Joseph P. Vantassel under the supervision of Professor Brady R. Cox at The University of\n",
    "Texas at Austin.\n",
    "\n",
    "If you use _swprocess_ in your research or consulting, we ask you please cite the following:\n",
    "\n",
    "__TBD__\n",
    "\n",
    "<!-- >Joseph Vantassel. (2020). jpvantassel/hvsrpy: latest (Concept). Zenodo.\n",
    "[http://doi.org/10.5281/zenodo.3666956](http://doi.org/10.5281/zenodo.3666956)\n",
    " _Note: For software, version specific citations should be preferred to\n",
    "general concept citations, such as that listed above. To generate a version\n",
    "specific citation for `hvsrpy`, please use the citation tool on the `hvsrpy`\n",
    "[archive](http://doi.org/10.5281/zenodo.3666956)._\n",
    " -->\n",
    "\n",
    "<!-- The automated frequency-domain window-rejection algorithm and log-normal statistics\n",
    "implemented in `hvsrpy` were developed by Tianjian Cheng under the supervision of\n",
    "Professor Brady R. Cox at The University of Texas at Austin. To\n",
    "recognize their original work please cite the follwing:\n",
    "\n",
    "> Cox, B. R., Cheng, T., Vantassel, J. P., and Manuel, L. (2020). “A statistical\n",
    "> representation and frequency-domain window-rejection algorithm for single-station\n",
    "> HVSR measurements.” Geophysical Journal International, 221(3), 2170-2183.\n",
    "\n",
    "This notebook also provides automatic checking of the SESAME (2004) reliability\n",
    "and clarity critera. To recognize their original work please also cite the following:\n",
    "\n",
    "> SESAME. (2004). Guidelines for the Implementation of the H/V Spectral Ratio Technique on Ambient Vibrations\n",
    "> Measurements, Processing, and Interpretation. European Commission - Research General Directorate, 62,\n",
    "> European Commission - Research General Directorate.\n",
    " -->\n",
    " \n",
    "## Getting Started\n",
    "---\n",
    "1. Install _swprocess_ and its dependencies, with `pip install swprocess`. If you are not familiar with `pip`, a useful tutorial can be found [here](https://jpvantassel.github.io/python3-course/#/intro/pip). __(~3 minutes)__ \n",
    "\n",
    "__TBD__\n",
    "\n",
    "Happy Processing!"
   ]
  },
  {
   "cell_type": "code",
   "execution_count": null,
   "metadata": {},
   "outputs": [],
   "source": [
    "import os\n",
    "import json\n",
    "import time\n",
    "\n",
    "import matplotlib.pyplot as plt\n",
    "from matplotlib.gridspec import GridSpec\n",
    "import numpy as np\n",
    "\n",
    "import swprocess"
   ]
  },
  {
   "cell_type": "markdown",
   "metadata": {},
   "source": [
    "## Input\n",
    "---"
   ]
  },
  {
   "cell_type": "markdown",
   "metadata": {},
   "source": [
    "### Files"
   ]
  },
  {
   "cell_type": "code",
   "execution_count": null,
   "metadata": {},
   "outputs": [],
   "source": [
    "# Path (relative or full) to a folder containing the data files. Data files must be in either the SEG2 and/or SU data format.\n",
    "path_to_folder = \"data/wghs/\"\n",
    "\n",
    "# Files grouped by source offset. Each set may contain the location a single or multiple files.\n",
    "# By default the notebook assumes that multiple source offsets have been used (6 in this examples, set0 to set5)\n",
    "# with multiple shots per source offset (5 in this example). The files of a set will be stacked according\n",
    "# to the selected MASW workflow (selected next).\n",
    "set0 = [f\"{path_to_folder}{x}.dat\" for x in range(6, 11)]\n",
    "set1 = [f\"{path_to_folder}{x}.dat\" for x in range(11, 16)]\n",
    "set2 = [f\"{path_to_folder}{x}.dat\" for x in range(16, 21)]\n",
    "set3 = [f\"{path_to_folder}{x}.dat\" for x in range(26, 31)]\n",
    "set4 = [f\"{path_to_folder}{x}.dat\" for x in range(31, 36)]\n",
    "set5 = [f\"{path_to_folder}{x}.dat\" for x in range(36, 41)]\n",
    "fnames_set = [set0, set1, set2, set3, set4, set5]\n",
    "\n",
    "print(\"Summary:\")\n",
    "for set_number, fnames in enumerate(fnames_set):\n",
    "    print(f\"  set{set_number} includes {len(fnames)} files from {fnames[0]} to {fnames[-1]}\")"
   ]
  },
  {
   "cell_type": "markdown",
   "metadata": {},
   "source": [
    "### Names"
   ]
  },
  {
   "cell_type": "code",
   "execution_count": null,
   "metadata": {},
   "outputs": [],
   "source": [
    "# Name for each fnames_set, if None, sets will be named according to the source position.\n",
    "names = None\n",
    "# names = [\"-5\", \"-10\", \"-20\", \"51\", \"56\", \"66\"]"
   ]
  },
  {
   "cell_type": "markdown",
   "metadata": {},
   "source": [
    "### Workflow"
   ]
  },
  {
   "cell_type": "code",
   "execution_count": null,
   "metadata": {},
   "outputs": [],
   "source": [
    "# Masw workflow {\"time-domain\", \"frequency-domain\", \"single\"}, time-domain is recommended\n",
    "workflow = \"time-domain\""
   ]
  },
  {
   "cell_type": "markdown",
   "metadata": {},
   "source": [
    "### Pre-processing"
   ]
  },
  {
   "cell_type": "code",
   "execution_count": null,
   "metadata": {},
   "outputs": [],
   "source": [
    "# Trim record between the specified begin and end times (time in seconds). Trimming is recommended, however\n",
    "# it must be done carefully to avoid accidentally trimming signal, particularly for far offsets.\n",
    "trim, trim_begin, trim_end = True, 0, 0.5\n",
    "\n",
    "# Mute portions of the time-domain record to isolate surface wave energy. No muting is recommended.\n",
    "# Mute method {\"interactive\"} and window_kwargs (see documenation for details).\n",
    "mute, method, window_kwargs = False, \"interactive\", {}\n",
    "\n",
    "# Zero pad the time-domain record to achieve a desired frequency step. Padding with df=0.5 is recommended.\n",
    "pad, df = True, 0.5"
   ]
  },
  {
   "cell_type": "markdown",
   "metadata": {},
   "source": [
    "### Processing"
   ]
  },
  {
   "cell_type": "code",
   "execution_count": null,
   "metadata": {},
   "outputs": [],
   "source": [
    "# Wavefield transform {\"fk\", \"slantstack\", \"phaseshift\", \"fdbf\"}, \"fdbf\" is recommended.\n",
    "transform = \"fdbf\"\n",
    "\n",
    "# Minimum and maximum frequencies of interest (frequency in Hertz).\n",
    "fmin, fmax = 5, 100\n",
    "\n",
    "# Selection of trial velocities (velocity in m/s) with minimum, maximum, number of steps, and space {\"linear\", \"log\"}.  \n",
    "vmin, vmax, nvel, vspace = 100, 500, 400, \"linear\"\n",
    "\n",
    "# Weighting for \"fdbf\" {\"sqrt\", \"invamp\", \"none\"} (ignored for all other wavefield transforms). \"sqrt\" is recommended. \n",
    "fdbf_weighting = \"sqrt\"\n",
    "\n",
    "# Steering vector for \"fdbf\" {\"cylindrical\", \"plane\"} (ignored for all other wavefield transforms). \"cylindrical\" is recommended.\n",
    "fdbf_steering = \"cylindrical\""
   ]
  },
  {
   "cell_type": "markdown",
   "metadata": {},
   "source": [
    "### Signal-to-Noise"
   ]
  },
  {
   "cell_type": "code",
   "execution_count": null,
   "metadata": {},
   "outputs": [],
   "source": [
    "# Compute the records signal-to-noise ratio. \n",
    "snr = True\n",
    "\n",
    "# Define noise and signal windows being and end times (time in seconds). Negative time refers to pre-trigger record.\n",
    "noise_begin, noise_end =  -0.5, 0.\n",
    "signal_begin, signal_end = 0., 0.5\n",
    "\n",
    "# Zero pad the noise and signal records to achieve a specified frequency step. Padding with df=1 is recommended.\n",
    "pad_snr, df_snr = True, 1"
   ]
  },
  {
   "cell_type": "markdown",
   "metadata": {},
   "source": [
    "## Analysis\n",
    "---\n"
   ]
  },
  {
   "cell_type": "code",
   "execution_count": null,
   "metadata": {},
   "outputs": [],
   "source": [
    "# Perform the selcted MASW workflow. No changes to this cell are required, however you may\n",
    "# wish to change the variable `settings_fname` to a more specific name for later reference.\n",
    "# This cell may take several seconds to run.\n",
    "%matplotlib qt5\n",
    "settings_fname = \"masw_settings.json\"\n",
    "swprocess.Masw.create_settings_file(fname=settings_fname, workflow=workflow,\n",
    "                                     trim=trim, trim_begin=trim_begin, trim_end=trim_end,\n",
    "                                     mute=mute, method=method, window_kwargs=window_kwargs,\n",
    "                                     transform=transform, fmin=fmin, fmax=fmax, pad=pad, df=df,\n",
    "                                     vmin=vmin, vmax=vmax, nvel=nvel, vspace=vspace,\n",
    "                                     weighting=fdbf_weighting, steering=fdbf_steering,\n",
    "                                     snr=snr, noise_begin=noise_begin, noise_end=noise_end,\n",
    "                                     signal_begin=signal_begin, signal_end=signal_end,\n",
    "                                     pad_snr = pad_snr, df_snr=df_snr)\n",
    "\n",
    "start = time.perf_counter()\n",
    "wavefieldtransforms = []\n",
    "for fnames in fnames_set: \n",
    "    wavefieldtransforms.append(swprocess.Masw.run(fnames=fnames, settings_fname=settings_fname))\n",
    "end = time.perf_counter()\n",
    "print(f\"Elapsed Time (s): {round(end-start,2)}\")"
   ]
  },
  {
   "cell_type": "markdown",
   "metadata": {},
   "source": [
    "## Post-Analysis Settings\n",
    "---"
   ]
  },
  {
   "cell_type": "markdown",
   "metadata": {},
   "source": [
    "### Dispersion Image"
   ]
  },
  {
   "cell_type": "code",
   "execution_count": null,
   "metadata": {},
   "outputs": [],
   "source": [
    "# Image normalization {\"none\", \"absolute-maximum\" \"frequency-maximum\"} -> \"frequency-maximum\" is recommended.\n",
    "wavefield_normalization = \"frequency-maximum\"\n",
    "\n",
    "# Display the wavelength resolution limit.\n",
    "display_lambda_res = True"
   ]
  },
  {
   "cell_type": "markdown",
   "metadata": {},
   "source": [
    "## Plot Results\n",
    "---"
   ]
  },
  {
   "cell_type": "code",
   "execution_count": null,
   "metadata": {},
   "outputs": [],
   "source": [
    "%matplotlib inline\n",
    "figures = []\n",
    "for wavefieldtransform in wavefieldtransforms:\n",
    "    fig = plt.figure(figsize=(6,6), dpi=150)\n",
    "\n",
    "    gs = GridSpec(nrows=4, ncols=4, height_ratios=(1.7, 0.5, 1.5, 4), width_ratios=(1, 0.3, 1, 0.05), hspace=0.2, wspace=0.1)\n",
    "    ax0 = fig.add_subplot(gs[0, :])\n",
    "    ax1 = fig.add_subplot(gs[2:4, 0])\n",
    "    ax2 = fig.add_subplot(gs[2, 2])\n",
    "    ax3 = fig.add_subplot(gs[3, 2])\n",
    "    ax4 = fig.add_subplot(gs[3, 3])\n",
    "\n",
    "    # Array\n",
    "    wavefieldtransform.array.plot(ax=ax0)\n",
    "    ax0.set_yticks([])\n",
    "    ax0.legend(ncol=2)\n",
    "    \n",
    "    # Timeseries\n",
    "    wavefieldtransform.array.waterfall(ax=ax1, amplitude_detrend=False, amplitude_normalization=\"each\")\n",
    "    if trim:\n",
    "        ax1.set_ylim((trim_end, trim_begin))\n",
    "\n",
    "    # Signal-to-Noise Ratio\n",
    "    wavefieldtransform.plot_snr(ax=ax2)\n",
    "    ax2.set_xticklabels([])\n",
    "    ax2.set_xlabel(\"\")\n",
    "    ax2.set_ylabel(\"SNR\")\n",
    "    \n",
    "    # Dispersion Image\n",
    "    wavefieldtransform.plot(fig=fig, ax=ax3, cax=ax4, normalization=wavefield_normalization)\n",
    "    xlim = ax3.get_xlim()\n",
    "    ylim = ax3.get_ylim()\n",
    "    if display_lambda_res:\n",
    "        kres_format = dict(linewidth=1.5, color=\"#000000\", linestyle=\"--\")\n",
    "        kres = wavefieldtransform.array.kres\n",
    "        kvelocity = 2*np.pi*wavefieldtransform.frequencies / kres\n",
    "        ax3.plot(wavefieldtransform.frequencies, kvelocity, label=r\"$\\lambda_{res}$\" + f\"={np.round(2*np.pi/kres,2)} m\", **kres_format)\n",
    "        ax3.legend(loc=\"upper right\")\n",
    "    ax3.set_xlim(xlim)\n",
    "    ax2.set_xlim(xlim)\n",
    "    ax3.set_ylim(ylim)\n",
    "    \n",
    "    figures.append(fig)\n",
    "    plt.show()\n",
    "    print(\"\\n\\n\\n\")"
   ]
  },
  {
   "cell_type": "markdown",
   "metadata": {},
   "source": [
    "## Save Peaks to File\n",
    "---"
   ]
  },
  {
   "cell_type": "code",
   "execution_count": null,
   "metadata": {},
   "outputs": [],
   "source": [
    "output_fname = \"wghs_masw.json\"\n",
    "\n",
    "names = names if names is not None else [f\"{x.array.source.x}\" for x in wavefieldtransforms]\n",
    "if len(names) != len(wavefieldtransforms):\n",
    "    raise ValueError(f\"len(fnames_set)={len(fnames_set)} must equal len(names)={len(names)}.\")\n",
    "\n",
    "append = False    \n",
    "for name, wavefieldtransform in zip(names, wavefieldtransforms):\n",
    "    peak = swprocess.peaks.Peaks(wavefieldtransform.frequencies,\n",
    "                                 wavefieldtransform.find_peak_power(by=\"frequency-maximum\"),\n",
    "                                 identifier=name)\n",
    "    peak.to_json(fname=output_fname, append=append)\n",
    "    append = True"
   ]
  },
  {
   "cell_type": "markdown",
   "metadata": {},
   "source": [
    "## Save Images\n",
    "---"
   ]
  },
  {
   "cell_type": "code",
   "execution_count": null,
   "metadata": {},
   "outputs": [],
   "source": [
    "prefix = \"wghs\" \n",
    "\n",
    "for name, wavefieldtransform, figure in zip(names, wavefieldtransforms, figures):\n",
    "    figure.savefig(f\"{prefix}_{name}m.png\", dpi=300, bbox_inches=\"tight\")"
   ]
  },
  {
   "cell_type": "code",
   "execution_count": null,
   "metadata": {},
   "outputs": [],
   "source": []
  }
 ],
 "metadata": {
  "kernelspec": {
   "display_name": "Python 3",
   "language": "python",
   "name": "python3"
  },
  "language_info": {
   "codemirror_mode": {
    "name": "ipython",
    "version": 3
   },
   "file_extension": ".py",
   "mimetype": "text/x-python",
   "name": "python",
   "nbconvert_exporter": "python",
   "pygments_lexer": "ipython3",
   "version": "3.7.5"
  }
 },
 "nbformat": 4,
 "nbformat_minor": 4
}
