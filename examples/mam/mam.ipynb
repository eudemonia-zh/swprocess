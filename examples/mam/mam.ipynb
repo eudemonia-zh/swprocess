{
 "cells": [
  {
   "cell_type": "markdown",
   "metadata": {},
   "source": [
    "## License Information\n",
    "---\n",
    "\n",
    "This file is distributed as part of `swprocess`, a Python package for surface wave processing.\n",
    "\n",
    "    Copyright (C) 2020 Joseph P. Vantassel (jvantassel@utexas.edu)\n",
    "\n",
    "    This program is free software: you can redistribute it and/or modify\n",
    "    it under the terms of the GNU General Public License as published by\n",
    "    the Free Software Foundation, either version 3 of the License, or\n",
    "    (at your option) any later version.\n",
    "\n",
    "    This program is distributed in the hope that it will be useful,\n",
    "    but WITHOUT ANY WARRANTY; without even the implied warranty of\n",
    "    MERCHANTABILITY or FITNESS FOR A PARTICULAR PURPOSE.  See the\n",
    "    GNU General Public License for more details.\n",
    "\n",
    "    You should have received a copy of the GNU General Public License\n",
    "    along with this program.  If not, see <https: //www.gnu.org/licenses/>.\n",
    "    \n",
    "## About _swprocess_ and this notebook\n",
    "---\n",
    "\n",
    "`swprocess` is a Python package for surface wave processing. `swprocess` was developed by\n",
    "Joseph P. Vantassel under the supervision of Professor Brady R. Cox at The University of\n",
    "Texas at Austin.\n",
    "\n",
    "If you use _swprocess_ in your research or consulting, we ask you please cite the following:\n",
    "\n",
    "__TBD__\n",
    "\n",
    "<!-- >Joseph Vantassel. (2020). jpvantassel/hvsrpy: latest (Concept). Zenodo.\n",
    "[http://doi.org/10.5281/zenodo.3666956](http://doi.org/10.5281/zenodo.3666956)\n",
    " _Note: For software, version specific citations should be preferred to\n",
    "general concept citations, such as that listed above. To generate a version\n",
    "specific citation for `hvsrpy`, please use the citation tool on the `hvsrpy`\n",
    "[archive](http://doi.org/10.5281/zenodo.3666956)._\n",
    " -->\n",
    "\n",
    "<!-- The automated frequency-domain window-rejection algorithm and log-normal statistics\n",
    "implemented in `hvsrpy` were developed by Tianjian Cheng under the supervision of\n",
    "Professor Brady R. Cox at The University of Texas at Austin. To\n",
    "recognize their original work please cite the follwing:\n",
    "\n",
    "> Cox, B. R., Cheng, T., Vantassel, J. P., and Manuel, L. (2020). “A statistical\n",
    "> representation and frequency-domain window-rejection algorithm for single-station\n",
    "> HVSR measurements.” Geophysical Journal International, 221(3), 2170-2183.\n",
    "\n",
    "This notebook also provides automatic checking of the SESAME (2004) reliability\n",
    "and clarity critera. To recognize their original work please also cite the following:\n",
    "\n",
    "> SESAME. (2004). Guidelines for the Implementation of the H/V Spectral Ratio Technique on Ambient Vibrations\n",
    "> Measurements, Processing, and Interpretation. European Commission - Research General Directorate, 62,\n",
    "> European Commission - Research General Directorate.\n",
    " -->\n",
    " \n",
    "## Getting Started\n",
    "---\n",
    "1. Install _swprocess_ and its dependencies, with `pip install swprocess`. If you are not familiar with `pip`, a useful tutorial can be found [here](https://jpvantassel.github.io/python3-course/#/intro/pip). __(~3 minutes)__ \n",
    "\n",
    "__TBD__\n",
    "\n",
    "Happy Processing!"
   ]
  },
  {
   "cell_type": "code",
   "execution_count": null,
   "metadata": {},
   "outputs": [],
   "source": [
    "import matplotlib.pyplot as plt\n",
    "import numpy as np\n",
    "\n",
    "import swprocess"
   ]
  },
  {
   "cell_type": "markdown",
   "metadata": {},
   "source": [
    "## Input\n",
    "---"
   ]
  },
  {
   "cell_type": "markdown",
   "metadata": {},
   "source": [
    "### Files"
   ]
  },
  {
   "cell_type": "code",
   "execution_count": null,
   "metadata": {},
   "outputs": [],
   "source": [
    "# File(s) to import in the .max format.\n",
    "fnames_set = [[\"data/wghs_c50/wghs_c50-3c.max\"],\n",
    "              [\"data/wghs_bigx/wghs_bigx-3c.max\"]]"
   ]
  },
  {
   "cell_type": "markdown",
   "metadata": {},
   "source": [
    "### Wavetype"
   ]
  },
  {
   "cell_type": "code",
   "execution_count": null,
   "metadata": {},
   "outputs": [],
   "source": [
    "# Wavetype {\"rayleigh\", \"love\"}\n",
    "wavetype = \"rayleigh\""
   ]
  },
  {
   "cell_type": "markdown",
   "metadata": {},
   "source": [
    "### Plot Settings"
   ]
  },
  {
   "cell_type": "code",
   "execution_count": null,
   "metadata": {},
   "outputs": [],
   "source": [
    "# Domains in which to plot the experimental dispersion data.\n",
    "domains = [\n",
    "    [\"frequency\", \"velocity\"],\n",
    "    [\"wavelength\", \"velocity\"],\n",
    "]\n",
    "\n",
    "# Colors one per `fnames_set` entry. Examples include: \"limegreen\", \"dodgerblue\", \"tomatoe\", \"darkorange\".\n",
    "# A full listing is provided here: https://matplotlib.org/3.1.0/_images/sphx_glr_named_colors_003.png\n",
    "# Colors may also be listed in hexidecimal.\n",
    "colors = [\"dodgerblue\", \"tomato\"]\n",
    "\n",
    "# Custom labels one per `fanems_set` entry. Note these will also be used for the output file suffixs.\n",
    "labels = [\"c50\", \"bigx\"]"
   ]
  },
  {
   "cell_type": "markdown",
   "metadata": {},
   "source": [
    "## Plot Dispersion\n",
    "---"
   ]
  },
  {
   "cell_type": "code",
   "execution_count": null,
   "metadata": {},
   "outputs": [],
   "source": [
    "xtype = [x for x, _ in domains]\n",
    "ytype = [y for _, y in domains]\n",
    "fig, axs = plt.subplots(ncols=len(xtype), figsize=(9,3), dpi=150, gridspec_kw=dict(wspace=0.4))\n",
    "\n",
    "if len(fnames_set) != len(colors) or len(fnames_set) != len(labels):\n",
    "    raise IndexError(f\"fnames_set, colors, and labels must be the same length.\")\n",
    "\n",
    "suites = []\n",
    "for fnames, color, label in zip(fnames_set, colors, labels):\n",
    "    peaksuite = swprocess.PeaksSuite.from_max(fnames=fnames, wavetype=wavetype)\n",
    "    peaksuite.plot(xtype=xtype, ax=axs, ytype=ytype, plot_kwargs=dict(color=color, label=label))\n",
    "    suites.append(peaksuite)\n",
    "    \n",
    "axs[-1].legend(bbox_to_anchor = (1.1, 0.5), loc=\"center left\")\n",
    "\n",
    "plt.show()"
   ]
  },
  {
   "cell_type": "markdown",
   "metadata": {},
   "source": [
    "## Write to `.json`\n",
    "---"
   ]
  },
  {
   "cell_type": "code",
   "execution_count": null,
   "metadata": {},
   "outputs": [],
   "source": [
    "output_fname_prefix = \"wghs\"\n",
    "\n",
    "for label, suite in zip(labels, suites):\n",
    "    suite.to_json(fname=f\"{output_fname_prefix}_{wavetype}_{label}.json\")"
   ]
  },
  {
   "cell_type": "code",
   "execution_count": null,
   "metadata": {},
   "outputs": [],
   "source": []
  }
 ],
 "metadata": {
  "kernelspec": {
   "display_name": "Python 3",
   "language": "python",
   "name": "python3"
  },
  "language_info": {
   "codemirror_mode": {
    "name": "ipython",
    "version": 3
   },
   "file_extension": ".py",
   "mimetype": "text/x-python",
   "name": "python",
   "nbconvert_exporter": "python",
   "pygments_lexer": "ipython3",
   "version": "3.7.5"
  }
 },
 "nbformat": 4,
 "nbformat_minor": 4
}
