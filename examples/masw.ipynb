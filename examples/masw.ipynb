{
 "cells": [
  {
   "cell_type": "markdown",
   "metadata": {},
   "source": [
    "## License Information\n",
    "---\n",
    "\n",
    "This file is distributed as part of `swprocess`, a Python package for surface wave processing.\n",
    "\n",
    "    Copyright (C) 2020 Joseph P. Vantassel (jvantassel@utexas.edu)\n",
    "\n",
    "    This program is free software: you can redistribute it and/or modify\n",
    "    it under the terms of the GNU General Public License as published by\n",
    "    the Free Software Foundation, either version 3 of the License, or\n",
    "    (at your option) any later version.\n",
    "\n",
    "    This program is distributed in the hope that it will be useful,\n",
    "    but WITHOUT ANY WARRANTY; without even the implied warranty of\n",
    "    MERCHANTABILITY or FITNESS FOR A PARTICULAR PURPOSE.  See the\n",
    "    GNU General Public License for more details.\n",
    "\n",
    "    You should have received a copy of the GNU General Public License\n",
    "    along with this program.  If not, see <https: //www.gnu.org/licenses/>.\n",
    "    \n",
    "## About _swprocess_ and this notebook\n",
    "---\n",
    "\n",
    "`swprocess` is a Python package for surface wave processing. `swprocess` was developed by\n",
    "Joseph P. Vantassel under the supervision of Professor Brady R. Cox at The University of\n",
    "Texas at Austin.\n",
    "\n",
    "If you use _swprocess_ in your research or consulting, we ask you please cite the following:\n",
    "\n",
    "__TBD__\n",
    "\n",
    "<!-- >Joseph Vantassel. (2020). jpvantassel/hvsrpy: latest (Concept). Zenodo.\n",
    "[http://doi.org/10.5281/zenodo.3666956](http://doi.org/10.5281/zenodo.3666956)\n",
    " _Note: For software, version specific citations should be preferred to\n",
    "general concept citations, such as that listed above. To generate a version\n",
    "specific citation for `hvsrpy`, please use the citation tool on the `hvsrpy`\n",
    "[archive](http://doi.org/10.5281/zenodo.3666956)._\n",
    " -->\n",
    "\n",
    "<!-- The automated frequency-domain window-rejection algorithm and log-normal statistics\n",
    "implemented in `hvsrpy` were developed by Tianjian Cheng under the supervision of\n",
    "Professor Brady R. Cox at The University of Texas at Austin. To\n",
    "recognize their original work please cite the follwing:\n",
    "\n",
    "> Cox, B. R., Cheng, T., Vantassel, J. P., and Manuel, L. (2020). “A statistical\n",
    "> representation and frequency-domain window-rejection algorithm for single-station\n",
    "> HVSR measurements.” Geophysical Journal International, 221(3), 2170-2183.\n",
    "\n",
    "This notebook also provides automatic checking of the SESAME (2004) reliability\n",
    "and clarity critera. To recognize their original work please also cite the following:\n",
    "\n",
    "> SESAME. (2004). Guidelines for the Implementation of the H/V Spectral Ratio Technique on Ambient Vibrations\n",
    "> Measurements, Processing, and Interpretation. European Commission - Research General Directorate, 62,\n",
    "> European Commission - Research General Directorate.\n",
    " -->\n",
    " \n",
    "## Getting Started\n",
    "---\n",
    "1. Install _swprocess_ and its dependencies, with `pip install swprocess`. If you are not familiar with `pip`, a useful tutorial can be found [here](https://jpvantassel.github.io/python3-course/#/intro/pip). __(~3 minutes)__ \n",
    "\n",
    "__TBD__\n",
    "\n",
    "Happy Processing!"
   ]
  },
  {
   "cell_type": "code",
   "execution_count": 1,
   "metadata": {},
   "outputs": [],
   "source": [
    "import os\n",
    "import json\n",
    "\n",
    "import matplotlib.pyplot as plt\n",
    "import numpy as np\n",
    "\n",
    "import swprocess"
   ]
  },
  {
   "cell_type": "markdown",
   "metadata": {},
   "source": [
    "## Input\n",
    "---"
   ]
  },
  {
   "cell_type": "markdown",
   "metadata": {},
   "source": [
    "### Files"
   ]
  },
  {
   "cell_type": "code",
   "execution_count": 2,
   "metadata": {},
   "outputs": [],
   "source": [
    "# Files\n",
    "fnames = [f\"sample_data/wghs/{x}.dat\" for x in range(6, 10)]\n",
    "\n",
    "# Workflow {\"time-domain\", \"frequency-domain\", \"single\"}, time-domain is recommended\n",
    "workflow = \"time-domain\""
   ]
  },
  {
   "cell_type": "markdown",
   "metadata": {},
   "source": [
    "### Pre-processing"
   ]
  },
  {
   "cell_type": "code",
   "execution_count": 3,
   "metadata": {},
   "outputs": [],
   "source": [
    "# Trimming\n",
    "trim = False\n",
    "start_time, end_time = 0, 0.9\n",
    "\n",
    "# Mute\n",
    "mute = False\n",
    "method = \"interactive\"\n",
    "window_kwargs = {}\n",
    "\n",
    "# Zero-padding\n",
    "pad = False\n",
    "df = 1"
   ]
  },
  {
   "cell_type": "markdown",
   "metadata": {},
   "source": [
    "### Processing"
   ]
  },
  {
   "cell_type": "code",
   "execution_count": 4,
   "metadata": {},
   "outputs": [],
   "source": [
    "transform = \"phaseshift\"\n",
    "fmin, fmax = 5, 100\n",
    "vmin, vmax, nvel, vspace = 100, 400, 200, \"linear\"\n",
    "fdbf_weighting = \"weighting\"\n",
    "fdbf_steering = \"cylindrical\""
   ]
  },
  {
   "cell_type": "markdown",
   "metadata": {},
   "source": [
    "### Signal-to-Noise"
   ]
  },
  {
   "cell_type": "code",
   "execution_count": 5,
   "metadata": {},
   "outputs": [],
   "source": [
    "snr = False\n",
    "noise_begin, noise_end =  -0.5, 0.\n",
    "signal_begin, signal_end = 0., 0.5\n",
    "pad_snr, df_snr = False, 1"
   ]
  },
  {
   "cell_type": "markdown",
   "metadata": {},
   "source": [
    "## Summmarize Inputs\n",
    "---"
   ]
  },
  {
   "cell_type": "code",
   "execution_count": 6,
   "metadata": {},
   "outputs": [
    {
     "ename": "IndexError",
     "evalue": "tuple index out of range",
     "output_type": "error",
     "traceback": [
      "\u001b[1;31m---------------------------------------------------------------------------\u001b[0m",
      "\u001b[1;31mIndexError\u001b[0m                                Traceback (most recent call last)",
      "\u001b[1;32m<ipython-input-6-6eb1fe7cef6c>\u001b[0m in \u001b[0;36m<module>\u001b[1;34m\u001b[0m\n\u001b[0;32m     10\u001b[0m                                      \u001b[0mpad_snr\u001b[0m \u001b[1;33m=\u001b[0m \u001b[0mpad_snr\u001b[0m\u001b[1;33m,\u001b[0m \u001b[0mdf_snr\u001b[0m\u001b[1;33m=\u001b[0m\u001b[0mdf_snr\u001b[0m\u001b[1;33m\u001b[0m\u001b[1;33m\u001b[0m\u001b[0m\n\u001b[0;32m     11\u001b[0m                                     )\n\u001b[1;32m---> 12\u001b[1;33m \u001b[0mswprocess\u001b[0m\u001b[1;33m.\u001b[0m\u001b[0mMasw\u001b[0m\u001b[1;33m.\u001b[0m\u001b[0mrun\u001b[0m\u001b[1;33m(\u001b[0m\u001b[0mfnames\u001b[0m\u001b[1;33m=\u001b[0m\u001b[0mfnames\u001b[0m\u001b[1;33m,\u001b[0m \u001b[0msettings_fname\u001b[0m\u001b[1;33m=\u001b[0m\u001b[0msettings_fname\u001b[0m \u001b[1;33m)\u001b[0m\u001b[1;33m\u001b[0m\u001b[1;33m\u001b[0m\u001b[0m\n\u001b[0m",
      "\u001b[1;32md:\\currentresearch\\swprocess\\swprocess\\masw.py\u001b[0m in \u001b[0;36mrun\u001b[1;34m(fnames, settings_fname, map_x, map_y)\u001b[0m\n\u001b[0;32m     59\u001b[0m         workflow = Workflow(fnames=fnames, settings=settings, map_x=map_x,\n\u001b[0;32m     60\u001b[0m                             map_y=map_y)\n\u001b[1;32m---> 61\u001b[1;33m         \u001b[1;32mreturn\u001b[0m \u001b[0mworkflow\u001b[0m\u001b[1;33m.\u001b[0m\u001b[0mrun\u001b[0m\u001b[1;33m(\u001b[0m\u001b[1;33m)\u001b[0m\u001b[1;33m\u001b[0m\u001b[1;33m\u001b[0m\u001b[0m\n\u001b[0m\u001b[0;32m     62\u001b[0m \u001b[1;33m\u001b[0m\u001b[0m\n\u001b[0;32m     63\u001b[0m     \u001b[1;33m@\u001b[0m\u001b[0mclassmethod\u001b[0m\u001b[1;33m\u001b[0m\u001b[1;33m\u001b[0m\u001b[0m\n",
      "\u001b[1;32md:\\currentresearch\\swprocess\\swprocess\\workflows.py\u001b[0m in \u001b[0;36mrun\u001b[1;34m(self)\u001b[0m\n\u001b[0;32m    142\u001b[0m             self.settings[\"processing\"][\"transform\"])\n\u001b[0;32m    143\u001b[0m         transform = Transform.from_array(array=self.array,\n\u001b[1;32m--> 144\u001b[1;33m                                          settings=self.settings[\"processing\"])\n\u001b[0m\u001b[0;32m    145\u001b[0m         \u001b[0mtransform\u001b[0m\u001b[1;33m.\u001b[0m\u001b[0msnr\u001b[0m \u001b[1;33m=\u001b[0m \u001b[0mself\u001b[0m\u001b[1;33m.\u001b[0m\u001b[0msnr\u001b[0m\u001b[1;33m\u001b[0m\u001b[1;33m\u001b[0m\u001b[0m\n\u001b[0;32m    146\u001b[0m         \u001b[0mtransform\u001b[0m\u001b[1;33m.\u001b[0m\u001b[0msnr_frequencies\u001b[0m \u001b[1;33m=\u001b[0m \u001b[0mself\u001b[0m\u001b[1;33m.\u001b[0m\u001b[0msnr_frequencies\u001b[0m\u001b[1;33m\u001b[0m\u001b[1;33m\u001b[0m\u001b[0m\n",
      "\u001b[1;32md:\\currentresearch\\swprocess\\swprocess\\wavefieldtransforms.py\u001b[0m in \u001b[0;36mfrom_array\u001b[1;34m(cls, array, settings)\u001b[0m\n\u001b[0;32m     62\u001b[0m \u001b[1;33m\u001b[0m\u001b[0m\n\u001b[0;32m     63\u001b[0m         \u001b[1;31m# Perform transform.\u001b[0m\u001b[1;33m\u001b[0m\u001b[1;33m\u001b[0m\u001b[1;33m\u001b[0m\u001b[0m\n\u001b[1;32m---> 64\u001b[1;33m         \u001b[0mfrqs\u001b[0m\u001b[1;33m,\u001b[0m \u001b[0mpowr\u001b[0m \u001b[1;33m=\u001b[0m \u001b[0mcls\u001b[0m\u001b[1;33m.\u001b[0m\u001b[0mtransform\u001b[0m\u001b[1;33m(\u001b[0m\u001b[0marray\u001b[0m\u001b[1;33m,\u001b[0m \u001b[0mvels\u001b[0m\u001b[1;33m,\u001b[0m \u001b[0msettings\u001b[0m\u001b[1;33m)\u001b[0m\u001b[1;33m\u001b[0m\u001b[1;33m\u001b[0m\u001b[0m\n\u001b[0m\u001b[0;32m     65\u001b[0m \u001b[1;33m\u001b[0m\u001b[0m\n\u001b[0;32m     66\u001b[0m         \u001b[1;31m# Create WavefieldTransform object.\u001b[0m\u001b[1;33m\u001b[0m\u001b[1;33m\u001b[0m\u001b[1;33m\u001b[0m\u001b[0m\n",
      "\u001b[1;32md:\\currentresearch\\swprocess\\swprocess\\wavefieldtransforms.py\u001b[0m in \u001b[0;36mtransform\u001b[1;34m(cls, array, velocities, settings)\u001b[0m\n\u001b[0;32m    570\u001b[0m \u001b[1;33m\u001b[0m\u001b[0m\n\u001b[0;32m    571\u001b[0m         \u001b[1;31m# u(x,t) -> FFT -> U(x,f).\u001b[0m\u001b[1;33m\u001b[0m\u001b[1;33m\u001b[0m\u001b[1;33m\u001b[0m\u001b[0m\n\u001b[1;32m--> 572\u001b[1;33m         \u001b[0mfft\u001b[0m \u001b[1;33m=\u001b[0m \u001b[0mnp\u001b[0m\u001b[1;33m.\u001b[0m\u001b[0mfft\u001b[0m\u001b[1;33m.\u001b[0m\u001b[0mfft\u001b[0m\u001b[1;33m(\u001b[0m\u001b[0mtmatrix\u001b[0m\u001b[1;33m)\u001b[0m\u001b[1;33m\u001b[0m\u001b[1;33m\u001b[0m\u001b[0m\n\u001b[0m\u001b[0;32m    573\u001b[0m \u001b[1;33m\u001b[0m\u001b[0m\n\u001b[0;32m    574\u001b[0m         \u001b[1;31m# Frequency vector.\u001b[0m\u001b[1;33m\u001b[0m\u001b[1;33m\u001b[0m\u001b[1;33m\u001b[0m\u001b[0m\n",
      "\u001b[1;32m<__array_function__ internals>\u001b[0m in \u001b[0;36mfft\u001b[1;34m(*args, **kwargs)\u001b[0m\n",
      "\u001b[1;32mc:\\users\\joe\\appdata\\local\\programs\\python\\python37\\lib\\site-packages\\numpy\\fft\\_pocketfft.py\u001b[0m in \u001b[0;36mfft\u001b[1;34m(a, n, axis, norm)\u001b[0m\n\u001b[0;32m    182\u001b[0m     \u001b[0ma\u001b[0m \u001b[1;33m=\u001b[0m \u001b[0masarray\u001b[0m\u001b[1;33m(\u001b[0m\u001b[0ma\u001b[0m\u001b[1;33m)\u001b[0m\u001b[1;33m\u001b[0m\u001b[1;33m\u001b[0m\u001b[0m\n\u001b[0;32m    183\u001b[0m     \u001b[1;32mif\u001b[0m \u001b[0mn\u001b[0m \u001b[1;32mis\u001b[0m \u001b[1;32mNone\u001b[0m\u001b[1;33m:\u001b[0m\u001b[1;33m\u001b[0m\u001b[1;33m\u001b[0m\u001b[0m\n\u001b[1;32m--> 184\u001b[1;33m         \u001b[0mn\u001b[0m \u001b[1;33m=\u001b[0m \u001b[0ma\u001b[0m\u001b[1;33m.\u001b[0m\u001b[0mshape\u001b[0m\u001b[1;33m[\u001b[0m\u001b[0maxis\u001b[0m\u001b[1;33m]\u001b[0m\u001b[1;33m\u001b[0m\u001b[1;33m\u001b[0m\u001b[0m\n\u001b[0m\u001b[0;32m    185\u001b[0m     \u001b[0minv_norm\u001b[0m \u001b[1;33m=\u001b[0m \u001b[1;36m1\u001b[0m\u001b[1;33m\u001b[0m\u001b[1;33m\u001b[0m\u001b[0m\n\u001b[0;32m    186\u001b[0m     \u001b[1;32mif\u001b[0m \u001b[0mnorm\u001b[0m \u001b[1;32mis\u001b[0m \u001b[1;32mnot\u001b[0m \u001b[1;32mNone\u001b[0m \u001b[1;32mand\u001b[0m \u001b[0m_unitary\u001b[0m\u001b[1;33m(\u001b[0m\u001b[0mnorm\u001b[0m\u001b[1;33m)\u001b[0m\u001b[1;33m:\u001b[0m\u001b[1;33m\u001b[0m\u001b[1;33m\u001b[0m\u001b[0m\n",
      "\u001b[1;31mIndexError\u001b[0m: tuple index out of range"
     ]
    }
   ],
   "source": [
    "settings_fname = \"masw_settings.json\"\n",
    "swprocess.Masw.example_settings_file(fname=settings_fname, workflow=workflow,\n",
    "                                     trim=trim, start_time=start_time, end_time=end_time,\n",
    "                                     mute=mute, method=method, window_kwargs=window_kwargs,\n",
    "                                     transform=transform, fmin=fmin, fmax=fmax,\n",
    "                                     vmin=vmin, vmax=vmax, nvel=nvel, vspace=vspace,\n",
    "                                     weighting=fdbf_weighting, steering=fdbf_steering,\n",
    "                                     snr=snr, noise_begin=noise_begin, noise_end=noise_end,\n",
    "                                     signal_begin=signal_begin, signal_end=signal_end,\n",
    "                                     pad_snr = pad_snr, df_snr=df_snr\n",
    "                                    )\n",
    "swprocess.Masw.run(fnames=fnames, settings_fname=settings_fname )"
   ]
  },
  {
   "cell_type": "code",
   "execution_count": null,
   "metadata": {},
   "outputs": [],
   "source": []
  },
  {
   "cell_type": "code",
   "execution_count": null,
   "metadata": {},
   "outputs": [],
   "source": []
  },
  {
   "cell_type": "code",
   "execution_count": null,
   "metadata": {},
   "outputs": [],
   "source": [
    "# for array in arrays:\n",
    "#     fig, ax = array.plot()\n",
    "#     ax.set_xlim(-25,70)\n",
    "# plt.show()"
   ]
  },
  {
   "cell_type": "code",
   "execution_count": null,
   "metadata": {},
   "outputs": [],
   "source": [
    "# for array in arrays:\n",
    "#     fig, ax = array.waterfall()\n",
    "# plt.show()"
   ]
  },
  {
   "cell_type": "code",
   "execution_count": null,
   "metadata": {},
   "outputs": [],
   "source": [
    "# transforms = []\n",
    "# for array in arrays:\n",
    "#     transform = swprocess.WavefieldTransform1D(array, \"sample_settings/settings_process.json\")\n",
    "#     transforms.append(transform)\n",
    "\n",
    "# for transform in transforms:\n",
    "#     fig, ax = transform.plot_spectra()\n",
    "# plt.show()"
   ]
  },
  {
   "cell_type": "code",
   "execution_count": null,
   "metadata": {},
   "outputs": [],
   "source": [
    "# fname = \"active.json\"\n",
    "\n",
    "# try:\n",
    "#     os.remove(fname)\n",
    "# except FileNotFoundError:\n",
    "#     print(f\"No existing file named {fname}.\")\n",
    "\n",
    "# for transform, array in zip(transforms, arrays):\n",
    "#     transform.write_peaks_to_file(fname, f\"{array.source.x}m\", append=True)"
   ]
  },
  {
   "cell_type": "markdown",
   "metadata": {},
   "source": [
    "## Post-Process"
   ]
  },
  {
   "cell_type": "code",
   "execution_count": null,
   "metadata": {},
   "outputs": [],
   "source": [
    "fname = \"active.json\"\n",
    "\n",
    "peaksuite = swprocess.PeaksSuite.from_jsons(fname)"
   ]
  },
  {
   "cell_type": "code",
   "execution_count": null,
   "metadata": {},
   "outputs": [],
   "source": [
    "peaksuite.blitz(\"velocity\", (None, 600))\n",
    "fig, ax = peaksuite.plot()\n",
    "ax[0].legend(loc=\"center left\", bbox_to_anchor=(1,0.5))\n",
    "plt.show()"
   ]
  },
  {
   "cell_type": "code",
   "execution_count": null,
   "metadata": {},
   "outputs": [],
   "source": [
    "%matplotlib qt\n",
    "peaksuite.interactive_trimming(\"sample_settings/settings_post.json\")"
   ]
  },
  {
   "cell_type": "code",
   "execution_count": null,
   "metadata": {},
   "outputs": [],
   "source": [
    "%matplotlib inline\n",
    "fig, ax = peaksuite.plot(xtype=\"wavelength\")\n",
    "ax[0].set_xlim(1, 100)"
   ]
  },
  {
   "cell_type": "code",
   "execution_count": null,
   "metadata": {},
   "outputs": [],
   "source": [
    "stats = peaksuite.statistics(xx=np.geomspace(3, 30, 20), xtype=\"wavelength\", ytype=\"velocity\")"
   ]
  },
  {
   "cell_type": "code",
   "execution_count": null,
   "metadata": {},
   "outputs": [],
   "source": [
    "xx, mean, stddev, corr = stats"
   ]
  },
  {
   "cell_type": "code",
   "execution_count": null,
   "metadata": {},
   "outputs": [],
   "source": [
    "%matplotlib inline\n",
    "fig, ax = peaksuite.plot(xtype=\"wavelength\")\n",
    "ax[0].errorbar(xx, mean, yerr=stddev, color=\"r\", linestyle=\"\", capsize=2, zorder=15)\n",
    "ax[0].set_xlim(3, 30)\n",
    "plt.show()"
   ]
  },
  {
   "cell_type": "code",
   "execution_count": null,
   "metadata": {},
   "outputs": [],
   "source": [
    "fig, axs = randplot.plot_stats(*stats)\n",
    "\n",
    "for ax in axs:\n",
    "    randplot.fancy_log_ax(ax)\n",
    "plt.show()"
   ]
  },
  {
   "cell_type": "code",
   "execution_count": null,
   "metadata": {},
   "outputs": [],
   "source": []
  }
 ],
 "metadata": {
  "kernelspec": {
   "display_name": "Python 3",
   "language": "python",
   "name": "python3"
  },
  "language_info": {
   "codemirror_mode": {
    "name": "ipython",
    "version": 3
   },
   "file_extension": ".py",
   "mimetype": "text/x-python",
   "name": "python",
   "nbconvert_exporter": "python",
   "pygments_lexer": "ipython3",
   "version": "3.7.5"
  }
 },
 "nbformat": 4,
 "nbformat_minor": 4
}
