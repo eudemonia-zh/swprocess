{
 "cells": [
  {
   "cell_type": "markdown",
   "metadata": {},
   "source": [
    "# MASW - Multi-Channel Analysis of Surface Waves\n",
    "\n",
    "> Joseph P. Vantassel, The University of Texas at Austin\n",
    "\n",
    "This notebook performs MASW processing on a selected shot gather."
   ]
  },
  {
   "cell_type": "code",
   "execution_count": null,
   "metadata": {},
   "outputs": [],
   "source": [
    "import os\n",
    "\n",
    "import matplotlib.pyplot as plt\n",
    "import numpy as np\n",
    "\n",
    "import randtk.plot as randplot\n",
    "import swprocess"
   ]
  },
  {
   "cell_type": "code",
   "execution_count": null,
   "metadata": {},
   "outputs": [],
   "source": [
    "start_stop_pairs = [(1,5),(6,10),(11,15),(16,25),(26,35),(36,45)]\n",
    "\n",
    "files_per_location = []\n",
    "for start_stop in start_stop_pairs:\n",
    "    start, stop = start_stop\n",
    "    fnames = [f\"sample_data/vuws/{x}.dat\" for x in range(start,stop+1)]\n",
    "    files_per_location.append(fnames)"
   ]
  },
  {
   "cell_type": "code",
   "execution_count": null,
   "metadata": {},
   "outputs": [],
   "source": [
    "arrays = []\n",
    "for fnames in files_per_location:\n",
    "    array = swprocess.Array1D.from_files(fnames)\n",
    "    arrays.append(array) "
   ]
  },
  {
   "cell_type": "code",
   "execution_count": null,
   "metadata": {},
   "outputs": [],
   "source": [
    "for array in arrays:\n",
    "    fig, ax = array.plot()\n",
    "    ax.set_xlim(-20,66)\n",
    "plt.show()"
   ]
  },
  {
   "cell_type": "code",
   "execution_count": null,
   "metadata": {},
   "outputs": [],
   "source": [
    "for array in arrays:\n",
    "    fig, ax = array.waterfall()\n",
    "plt.show()"
   ]
  },
  {
   "cell_type": "code",
   "execution_count": null,
   "metadata": {},
   "outputs": [],
   "source": [
    "transforms = []\n",
    "for array in arrays:\n",
    "    transform = swprocess.WavefieldTransform1D(array, \"sample_settings/settings_fk.json\")\n",
    "    transforms.append(transform)\n",
    "plt.show()"
   ]
  },
  {
   "cell_type": "code",
   "execution_count": null,
   "metadata": {},
   "outputs": [],
   "source": [
    "for transform in transforms:\n",
    "    fig, ax = transform.plot_spectra()\n",
    "plt.show()"
   ]
  },
  {
   "cell_type": "code",
   "execution_count": null,
   "metadata": {},
   "outputs": [],
   "source": [
    "fname = \"active.json\"\n",
    "\n",
    "try:\n",
    "    os.remove(fname)\n",
    "except FileNotFoundError:\n",
    "    print(f\"No existing file named {fname}.\")\n",
    "\n",
    "for transform, array in zip(transforms, arrays):\n",
    "    transform.write_peaks_to_file(fname, f\"{array.source.x}m\", append=True)"
   ]
  },
  {
   "cell_type": "markdown",
   "metadata": {},
   "source": [
    "## Post-Process"
   ]
  },
  {
   "cell_type": "code",
   "execution_count": null,
   "metadata": {},
   "outputs": [],
   "source": [
    "fname = \"active.json\"\n",
    "\n",
    "peaksuite = swprocess.PeaksSuite.from_jsons(fname)"
   ]
  },
  {
   "cell_type": "code",
   "execution_count": null,
   "metadata": {},
   "outputs": [],
   "source": [
    "peaksuite.blitz(\"velocity\", (None, 600))\n",
    "fig, ax = peaksuite.plot()\n",
    "ax[0].legend(loc=\"center left\", bbox_to_anchor=(1,0.5))\n",
    "plt.show()"
   ]
  },
  {
   "cell_type": "code",
   "execution_count": null,
   "metadata": {},
   "outputs": [],
   "source": [
    "%matplotlib qt\n",
    "peaksuite.interactive_trimming(\"sample_settings/settings_post.json\")"
   ]
  },
  {
   "cell_type": "code",
   "execution_count": null,
   "metadata": {},
   "outputs": [],
   "source": [
    "%matplotlib inline\n",
    "fig, ax = peaksuite.plot(xtype=\"wavelength\")\n",
    "ax[0].set_xlim(1, 100)"
   ]
  },
  {
   "cell_type": "code",
   "execution_count": null,
   "metadata": {},
   "outputs": [],
   "source": [
    "stats = peaksuite.statistics(xx=np.geomspace(3, 30, 20), xtype=\"wavelength\", ytype=\"velocity\")"
   ]
  },
  {
   "cell_type": "code",
   "execution_count": null,
   "metadata": {},
   "outputs": [],
   "source": [
    "xx, mean, stddev, corr = stats"
   ]
  },
  {
   "cell_type": "code",
   "execution_count": null,
   "metadata": {},
   "outputs": [],
   "source": [
    "%matplotlib inline\n",
    "fig, ax = peaksuite.plot(xtype=\"wavelength\")\n",
    "ax[0].errorbar(xx, mean, yerr=stddev, color=\"r\", linestyle=\"\", capsize=2, zorder=15)\n",
    "ax[0].set_xlim(3, 30)\n",
    "plt.show()"
   ]
  },
  {
   "cell_type": "code",
   "execution_count": null,
   "metadata": {},
   "outputs": [],
   "source": [
    "fig, axs = randplot.plot_stats(*stats)\n",
    "\n",
    "for ax in axs:\n",
    "    randplot.fancy_log_ax(ax)\n",
    "plt.show()"
   ]
  },
  {
   "cell_type": "code",
   "execution_count": null,
   "metadata": {},
   "outputs": [],
   "source": []
  }
 ],
 "metadata": {
  "kernelspec": {
   "display_name": "Python 3",
   "language": "python",
   "name": "python3"
  },
  "language_info": {
   "codemirror_mode": {
    "name": "ipython",
    "version": 3
   },
   "file_extension": ".py",
   "mimetype": "text/x-python",
   "name": "python",
   "nbconvert_exporter": "python",
   "pygments_lexer": "ipython3",
   "version": "3.7.5"
  }
 },
 "nbformat": 4,
 "nbformat_minor": 4
}
