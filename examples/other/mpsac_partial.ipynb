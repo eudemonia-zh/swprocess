{
 "cells": [
  {
   "cell_type": "markdown",
   "metadata": {},
   "source": [
    "# Partial Derivative Needed for the MSPAC Procedure\n",
    "\n",
    "> Joseph P. Vantassel, The University of Texas at Austin\n"
   ]
  },
  {
   "cell_type": "code",
   "execution_count": 1,
   "metadata": {},
   "outputs": [],
   "source": [
    "import numpy as np\n",
    "from scipy.special import jv, j1\n",
    "import matplotlib.pyplot as plt"
   ]
  },
  {
   "cell_type": "markdown",
   "metadata": {},
   "source": [
    "## Equations\n",
    "---"
   ]
  },
  {
   "cell_type": "code",
   "execution_count": 2,
   "metadata": {},
   "outputs": [],
   "source": [
    "def eq15(fs, pm, dmin=10, dmax=11):\n",
    "    \"\"\"Eq. 15 from Bettig et al. (2001).\"\"\"\n",
    "    ws = 2*np.pi*fs\n",
    "    a = dmax*jv(1, ws*dmax/pm)\n",
    "    b = dmin*jv(1, ws*dmin/pm)\n",
    "    return 2*pm/(dmax*dmax - dmin*dmin)/ws * (a - b)"
   ]
  },
  {
   "cell_type": "code",
   "execution_count": 3,
   "metadata": {},
   "outputs": [],
   "source": [
    "def eq15_alt(fs, pm, dmin=10, dmax=11):\n",
    "    ws = 2*np.pi*fs\n",
    "    ratios = 2*pm\n",
    "    ratios /= (ws*(dmax*dmax - dmin*dmin))\n",
    "    ratios *= (dmax*j1(ws*dmax/pm) -\n",
    "               dmin*j1(ws*dmin/pm))\n",
    "    return ratios"
   ]
  },
  {
   "cell_type": "code",
   "execution_count": 4,
   "metadata": {},
   "outputs": [],
   "source": [
    "def eq21_aswritten(fs, pm, dmin=10, dmax=11):\n",
    "    \"\"\"Eq. 21 from Bettig et al. (2001) partial derviatve matrix of Eq. 15.\"\"\"\n",
    "    pm = pm.flatten()\n",
    "    ws = 2*np.pi*fs\n",
    "    dgdp = np.empty((len(fs), len(pm)))\n",
    "    pm2 = pm*pm\n",
    "    dmax3 = dmax**3\n",
    "    dmin3 = dmin**3\n",
    "    for row, w in enumerate(ws):\n",
    "        a = w*dmax3/pm2 * jv(2, w*dmax/pm)\n",
    "        b = w*dmin3/pm2 * jv(2, w*dmin/pm)\n",
    "        dgdp[row] = a - b\n",
    "    return dgdp"
   ]
  },
  {
   "cell_type": "code",
   "execution_count": 7,
   "metadata": {},
   "outputs": [],
   "source": [
    "def eq21_correct(fs, pm, dmin=10, dmax=11):\n",
    "    \"\"\"Corrected partial derviatve matrix of Eq. 15.\"\"\"\n",
    "    ws = 2*np.pi*fs\n",
    "    dgdp = np.empty((len(fs), len(pm)))\n",
    "    dmax2 = dmax*dmax\n",
    "    dmin2 = dmin*dmin\n",
    "    for row, w in enumerate(ws):\n",
    "        a = dmax2 * jv(2, w*dmax/pm)\n",
    "        b = dmin2 * jv(2, w*dmin/pm)\n",
    "        dgdp[row] = (2/(pm*(dmax2 - dmin2))) * (a - b)\n",
    "    return dgdp"
   ]
  },
  {
   "cell_type": "markdown",
   "metadata": {},
   "source": [
    "## Comparison\n",
    "---"
   ]
  },
  {
   "cell_type": "markdown",
   "metadata": {},
   "source": [
    "### Function"
   ]
  },
  {
   "cell_type": "code",
   "execution_count": 8,
   "metadata": {},
   "outputs": [
    {
     "data": {
      "image/png": "[encoded data removed]",
      "text/plain": [
       "<Figure size 432x288 with 1 Axes>"
      ]
     },
     "metadata": {
      "needs_background": "light"
     },
     "output_type": "display_data"
    }
   ],
   "source": [
    "fs = np.linspace(0.1, 1.5, 50)\n",
    "rh = eq15(fs, 400, dmin=352, dmax=383)\n",
    "plt.plot(fs, rh, color=\"k\", label=\"Eq. 15\")\n",
    "\n",
    "rh_alt = eq15_alt(fs, 400, dmin=352, dmax=383)\n",
    "plt.plot(fs, rh_alt, color=\"r\", linestyle=\"--\", label=\"Eq. 15 ALT\")\n",
    "\n",
    "plt.legend(loc=\"upper right\")\n",
    "plt.show()\n",
    "\n",
    "# for f, p in zip(fs, rh):\n",
    "#     print(f, p)"
   ]
  },
  {
   "cell_type": "markdown",
   "metadata": {},
   "source": [
    "### Derivative"
   ]
  },
  {
   "cell_type": "code",
   "execution_count": 47,
   "metadata": {},
   "outputs": [
    {
     "name": "stdout",
     "output_type": "stream",
     "text": [
      "dgdp - analytical\n",
      " [[3.28071268]]\n",
      "dgdp - analytical\n",
      " [[0.00611379]]\n",
      "dgdp - numerical\n",
      "  [0.00611379]\n"
     ]
    }
   ],
   "source": [
    "fs = np.array([9.3214])\n",
    "pm = np.array([125])\n",
    "dx = 0.001\n",
    "dmin, dmax = 20, 22\n",
    "\n",
    "# Analytical - As Written\n",
    "dgdp_aw = eq21_aswritten(fs, pm, dmin=dmin, dmax=dmax)\n",
    "\n",
    "# Analytical - Corrected\n",
    "dgdp_ac = eq21_correct(fs, pm, dmin=dmin, dmax=dmax)\n",
    "\n",
    "# Numerical\n",
    "dgdp_n = (eq15(fs, pm+dx, dmin=dmin, dmax=dmax) - eq15(fs, pm-dx, dmin=dmin, dmax=dmax)) / (2*dx)\n",
    "\n",
    "print(f\"dgdp - analytical\\n {dgdp_aw}\")\n",
    "print(f\"dgdp - analytical\\n {dgdp_ac}\")\n",
    "print(f\"dgdp - numerical\\n  {dgdp_n}\")\n",
    "\n",
    "# print(f\"dgdp - analytical - {dgdp_aw[0][0]:.3f}\")\n",
    "# print(f\"dgdp - analytical - {dgdp_ac[0][0]:.3f}\")\n",
    "# print(f\"dgdp - numerical  - {dgdp_n[0]:.3f}\")"
   ]
  },
  {
   "cell_type": "code",
   "execution_count": null,
   "metadata": {},
   "outputs": [],
   "source": []
  }
 ],
 "metadata": {
  "kernelspec": {
   "display_name": "Python 3",
   "language": "python",
   "name": "python3"
  },
  "language_info": {
   "codemirror_mode": {
    "name": "ipython",
    "version": 3
   },
   "file_extension": ".py",
   "mimetype": "text/x-python",
   "name": "python",
   "nbconvert_exporter": "python",
   "pygments_lexer": "ipython3",
   "version": "3.7.5"
  }
 },
 "nbformat": 4,
 "nbformat_minor": 4
}
